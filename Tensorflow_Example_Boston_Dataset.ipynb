{
  "cells": [
    {
      "cell_type": "markdown",
      "id": "fc7014bb",
      "metadata": {
        "id": "fc7014bb"
      },
      "source": [
        "!pip install -u tensorflow"
      ]
    },
    {
      "cell_type": "code",
      "execution_count": null,
      "id": "2f56d815",
      "metadata": {
        "id": "2f56d815"
      },
      "outputs": [],
      "source": [
        "from sklearn.datasets import load_boston\n",
        "from tensorflow.keras.models import Sequential\n",
        "from tensorflow.keras.layers import Dense, Input\n",
        "from tensorflow.keras.optimizers import RMSprop, SGD, Adam\n",
        "import matplotlib.pyplot as plt "
      ]
    },
    {
      "cell_type": "code",
      "execution_count": null,
      "id": "6a7c0c2b",
      "metadata": {
        "id": "6a7c0c2b"
      },
      "outputs": [],
      "source": [
        "data = load_boston(return_X_y=False)"
      ]
    },
    {
      "cell_type": "code",
      "execution_count": null,
      "id": "fb31757a",
      "metadata": {
        "id": "fb31757a",
        "outputId": "235334cc-c45e-4616-db59-aed8ed1e2ee2"
      },
      "outputs": [
        {
          "name": "stdout",
          "output_type": "stream",
          "text": [
            ".. _boston_dataset:\n",
            "\n",
            "Boston house prices dataset\n",
            "---------------------------\n",
            "\n",
            "**Data Set Characteristics:**  \n",
            "\n",
            "    :Number of Instances: 506 \n",
            "\n",
            "    :Number of Attributes: 13 numeric/categorical predictive. Median Value (attribute 14) is usually the target.\n",
            "\n",
            "    :Attribute Information (in order):\n",
            "        - CRIM     per capita crime rate by town\n",
            "        - ZN       proportion of residential land zoned for lots over 25,000 sq.ft.\n",
            "        - INDUS    proportion of non-retail business acres per town\n",
            "        - CHAS     Charles River dummy variable (= 1 if tract bounds river; 0 otherwise)\n",
            "        - NOX      nitric oxides concentration (parts per 10 million)\n",
            "        - RM       average number of rooms per dwelling\n",
            "        - AGE      proportion of owner-occupied units built prior to 1940\n",
            "        - DIS      weighted distances to five Boston employment centres\n",
            "        - RAD      index of accessibility to radial highways\n",
            "        - TAX      full-value property-tax rate per $10,000\n",
            "        - PTRATIO  pupil-teacher ratio by town\n",
            "        - B        1000(Bk - 0.63)^2 where Bk is the proportion of blacks by town\n",
            "        - LSTAT    % lower status of the population\n",
            "        - MEDV     Median value of owner-occupied homes in $1000's\n",
            "\n",
            "    :Missing Attribute Values: None\n",
            "\n",
            "    :Creator: Harrison, D. and Rubinfeld, D.L.\n",
            "\n",
            "This is a copy of UCI ML housing dataset.\n",
            "https://archive.ics.uci.edu/ml/machine-learning-databases/housing/\n",
            "\n",
            "\n",
            "This dataset was taken from the StatLib library which is maintained at Carnegie Mellon University.\n",
            "\n",
            "The Boston house-price data of Harrison, D. and Rubinfeld, D.L. 'Hedonic\n",
            "prices and the demand for clean air', J. Environ. Economics & Management,\n",
            "vol.5, 81-102, 1978.   Used in Belsley, Kuh & Welsch, 'Regression diagnostics\n",
            "...', Wiley, 1980.   N.B. Various transformations are used in the table on\n",
            "pages 244-261 of the latter.\n",
            "\n",
            "The Boston house-price data has been used in many machine learning papers that address regression\n",
            "problems.   \n",
            "     \n",
            ".. topic:: References\n",
            "\n",
            "   - Belsley, Kuh & Welsch, 'Regression diagnostics: Identifying Influential Data and Sources of Collinearity', Wiley, 1980. 244-261.\n",
            "   - Quinlan,R. (1993). Combining Instance-Based and Model-Based Learning. In Proceedings on the Tenth International Conference of Machine Learning, 236-243, University of Massachusetts, Amherst. Morgan Kaufmann.\n",
            "\n"
          ]
        }
      ],
      "source": [
        "print(data.DESCR)"
      ]
    },
    {
      "cell_type": "code",
      "execution_count": null,
      "id": "02c3b3c4",
      "metadata": {
        "id": "02c3b3c4"
      },
      "outputs": [],
      "source": [
        "X = data.data # Independent Variables"
      ]
    },
    {
      "cell_type": "code",
      "execution_count": null,
      "id": "398abe63",
      "metadata": {
        "id": "398abe63"
      },
      "outputs": [],
      "source": [
        "y = data.target # Target Variable"
      ]
    },
    {
      "cell_type": "code",
      "execution_count": null,
      "id": "db371abe",
      "metadata": {
        "id": "db371abe",
        "outputId": "fb9ce340-9bd9-4b8b-b146-969321db6da7"
      },
      "outputs": [
        {
          "data": {
            "text/plain": [
              "(506, 13)"
            ]
          },
          "execution_count": 15,
          "metadata": {},
          "output_type": "execute_result"
        }
      ],
      "source": [
        "X.shape "
      ]
    },
    {
      "cell_type": "code",
      "execution_count": null,
      "id": "49fce587",
      "metadata": {
        "id": "49fce587",
        "outputId": "a64ae9a5-83ad-48ac-b092-83b4883c5ea5"
      },
      "outputs": [
        {
          "data": {
            "text/plain": [
              "(506,)"
            ]
          },
          "execution_count": 14,
          "metadata": {},
          "output_type": "execute_result"
        }
      ],
      "source": [
        "y.shape # Target Varial"
      ]
    },
    {
      "cell_type": "markdown",
      "id": "946fc853",
      "metadata": {
        "id": "946fc853"
      },
      "source": [
        "### Train test split"
      ]
    },
    {
      "cell_type": "code",
      "execution_count": null,
      "id": "91338743",
      "metadata": {
        "id": "91338743"
      },
      "outputs": [],
      "source": [
        "from sklearn.model_selection import train_test_split"
      ]
    },
    {
      "cell_type": "code",
      "execution_count": null,
      "id": "611f242c",
      "metadata": {
        "id": "611f242c"
      },
      "outputs": [],
      "source": [
        "X_train, X_test, y_train, y_test = train_test_split(X, y, test_size=0.33, random_state=42)"
      ]
    },
    {
      "cell_type": "code",
      "execution_count": null,
      "id": "a61eaef6",
      "metadata": {
        "id": "a61eaef6",
        "outputId": "c38c6611-ac9a-4d17-a7df-e07a6f52cb8d"
      },
      "outputs": [
        {
          "data": {
            "text/plain": [
              "(339, 13)"
            ]
          },
          "execution_count": 18,
          "metadata": {},
          "output_type": "execute_result"
        }
      ],
      "source": [
        "X_train.shape"
      ]
    },
    {
      "cell_type": "code",
      "execution_count": null,
      "id": "fa14609e",
      "metadata": {
        "id": "fa14609e",
        "outputId": "ee7da33c-1964-4d3f-8d09-6d456ec727a8"
      },
      "outputs": [
        {
          "data": {
            "text/plain": [
              "(167, 13)"
            ]
          },
          "execution_count": 20,
          "metadata": {},
          "output_type": "execute_result"
        }
      ],
      "source": [
        "X_test.shape"
      ]
    },
    {
      "cell_type": "markdown",
      "id": "ac410f08",
      "metadata": {
        "id": "ac410f08"
      },
      "source": [
        "### Model Building with Tensorflow\n",
        "\n",
        "1. Model Initialization  - Defining the architecture of the DL model\n",
        "2. Model Compilation - Define the loss function, optimization functions\n",
        "3. Model Training - # Epochs, etc."
      ]
    },
    {
      "cell_type": "code",
      "execution_count": null,
      "id": "890ff629",
      "metadata": {
        "id": "890ff629",
        "outputId": "4cc797a6-63c8-4460-f96e-b616961022b7"
      },
      "outputs": [
        {
          "data": {
            "text/plain": [
              "10.59375"
            ]
          },
          "execution_count": 129,
          "metadata": {},
          "output_type": "execute_result"
        }
      ],
      "source": [
        "339/32"
      ]
    },
    {
      "cell_type": "code",
      "execution_count": null,
      "id": "e1765c95",
      "metadata": {
        "id": "e1765c95"
      },
      "outputs": [],
      "source": [
        "#Model Init\n",
        "model = Sequential() # Blank Model\n",
        "model.add(Input(shape = (13))) # Input Layer\n",
        "model.add(Dense(units = 5, activation='relu')) #hidden Layer with relu activation\n",
        "model.add(Dense(units = 1)) #Output Layer"
      ]
    },
    {
      "cell_type": "code",
      "execution_count": null,
      "id": "916490aa",
      "metadata": {
        "id": "916490aa"
      },
      "outputs": [],
      "source": [
        "#Model Compilation\n",
        "model.compile(optimizer = Adam(learning_rate=0.01),\n",
        "              loss=\"mean_squared_error\", \n",
        "              metrics=\"mean_absolute_error\")"
      ]
    },
    {
      "cell_type": "code",
      "execution_count": null,
      "id": "717dd5de",
      "metadata": {
        "scrolled": true,
        "id": "717dd5de",
        "outputId": "8a6129d4-007f-45dd-de30-4a9048c804af"
      },
      "outputs": [
        {
          "name": "stdout",
          "output_type": "stream",
          "text": [
            "Epoch 1/75\n",
            "11/11 [==============================] - 0s 14ms/step - loss: 279.7037 - mean_absolute_error: 13.1830 - val_loss: 82.9260 - val_mean_absolute_error: 7.3200\n",
            "Epoch 2/75\n",
            "11/11 [==============================] - 0s 2ms/step - loss: 87.4848 - mean_absolute_error: 6.8238 - val_loss: 52.2440 - val_mean_absolute_error: 5.2676\n",
            "Epoch 3/75\n",
            "11/11 [==============================] - 0s 3ms/step - loss: 74.5849 - mean_absolute_error: 6.5436 - val_loss: 54.4156 - val_mean_absolute_error: 4.7899\n",
            "Epoch 4/75\n",
            "11/11 [==============================] - 0s 3ms/step - loss: 73.7179 - mean_absolute_error: 5.9237 - val_loss: 75.8326 - val_mean_absolute_error: 7.4338\n",
            "Epoch 5/75\n",
            "11/11 [==============================] - 0s 3ms/step - loss: 71.8266 - mean_absolute_error: 6.1910 - val_loss: 49.2293 - val_mean_absolute_error: 5.0746\n",
            "Epoch 6/75\n",
            "11/11 [==============================] - 0s 4ms/step - loss: 64.8668 - mean_absolute_error: 6.0417 - val_loss: 49.0345 - val_mean_absolute_error: 4.6844\n",
            "Epoch 7/75\n",
            "11/11 [==============================] - 0s 4ms/step - loss: 62.6650 - mean_absolute_error: 5.6344 - val_loss: 50.4629 - val_mean_absolute_error: 5.6030\n",
            "Epoch 8/75\n",
            "11/11 [==============================] - 0s 3ms/step - loss: 59.5893 - mean_absolute_error: 5.4748 - val_loss: 49.1692 - val_mean_absolute_error: 5.5605\n",
            "Epoch 9/75\n",
            "11/11 [==============================] - 0s 3ms/step - loss: 58.2443 - mean_absolute_error: 5.5513 - val_loss: 44.8729 - val_mean_absolute_error: 4.7013\n",
            "Epoch 10/75\n",
            "11/11 [==============================] - 0s 3ms/step - loss: 58.1729 - mean_absolute_error: 5.4772 - val_loss: 44.2611 - val_mean_absolute_error: 4.6703\n",
            "Epoch 11/75\n",
            "11/11 [==============================] - 0s 3ms/step - loss: 55.2802 - mean_absolute_error: 5.3427 - val_loss: 47.3386 - val_mean_absolute_error: 5.4637\n",
            "Epoch 12/75\n",
            "11/11 [==============================] - 0s 3ms/step - loss: 55.0111 - mean_absolute_error: 5.3267 - val_loss: 42.9315 - val_mean_absolute_error: 4.8537\n",
            "Epoch 13/75\n",
            "11/11 [==============================] - 0s 4ms/step - loss: 55.4046 - mean_absolute_error: 5.2548 - val_loss: 43.7369 - val_mean_absolute_error: 5.0362\n",
            "Epoch 14/75\n",
            "11/11 [==============================] - 0s 3ms/step - loss: 52.5001 - mean_absolute_error: 5.0678 - val_loss: 60.9005 - val_mean_absolute_error: 6.7429\n",
            "Epoch 15/75\n",
            "11/11 [==============================] - 0s 3ms/step - loss: 55.4017 - mean_absolute_error: 5.2941 - val_loss: 47.7459 - val_mean_absolute_error: 5.7433\n",
            "Epoch 16/75\n",
            "11/11 [==============================] - 0s 3ms/step - loss: 52.7332 - mean_absolute_error: 5.2633 - val_loss: 37.8060 - val_mean_absolute_error: 4.3185\n",
            "Epoch 17/75\n",
            "11/11 [==============================] - 0s 4ms/step - loss: 50.8665 - mean_absolute_error: 5.1192 - val_loss: 37.8032 - val_mean_absolute_error: 4.1937\n",
            "Epoch 18/75\n",
            "11/11 [==============================] - 0s 3ms/step - loss: 49.5389 - mean_absolute_error: 5.1400 - val_loss: 39.5435 - val_mean_absolute_error: 4.0978\n",
            "Epoch 19/75\n",
            "11/11 [==============================] - 0s 4ms/step - loss: 47.3020 - mean_absolute_error: 4.8650 - val_loss: 40.5876 - val_mean_absolute_error: 5.0750\n",
            "Epoch 20/75\n",
            "11/11 [==============================] - 0s 3ms/step - loss: 47.0429 - mean_absolute_error: 4.8484 - val_loss: 37.2370 - val_mean_absolute_error: 4.6251\n",
            "Epoch 21/75\n",
            "11/11 [==============================] - 0s 3ms/step - loss: 48.2001 - mean_absolute_error: 4.9983 - val_loss: 34.8642 - val_mean_absolute_error: 4.1272\n",
            "Epoch 22/75\n",
            "11/11 [==============================] - 0s 3ms/step - loss: 47.0513 - mean_absolute_error: 4.8327 - val_loss: 34.6308 - val_mean_absolute_error: 4.1433\n",
            "Epoch 23/75\n",
            "11/11 [==============================] - 0s 4ms/step - loss: 44.2124 - mean_absolute_error: 4.6734 - val_loss: 34.4912 - val_mean_absolute_error: 4.2011\n",
            "Epoch 24/75\n",
            "11/11 [==============================] - 0s 2ms/step - loss: 46.3537 - mean_absolute_error: 4.7798 - val_loss: 33.0863 - val_mean_absolute_error: 4.0842\n",
            "Epoch 25/75\n",
            "11/11 [==============================] - 0s 3ms/step - loss: 43.5482 - mean_absolute_error: 4.6599 - val_loss: 33.3513 - val_mean_absolute_error: 4.2286\n",
            "Epoch 26/75\n",
            "11/11 [==============================] - 0s 3ms/step - loss: 41.8070 - mean_absolute_error: 4.6182 - val_loss: 33.8210 - val_mean_absolute_error: 3.9786\n",
            "Epoch 27/75\n",
            "11/11 [==============================] - 0s 3ms/step - loss: 41.9010 - mean_absolute_error: 4.5740 - val_loss: 32.6701 - val_mean_absolute_error: 4.1772\n",
            "Epoch 28/75\n",
            "11/11 [==============================] - 0s 3ms/step - loss: 42.5987 - mean_absolute_error: 4.5655 - val_loss: 31.8101 - val_mean_absolute_error: 4.0135\n",
            "Epoch 29/75\n",
            "11/11 [==============================] - 0s 3ms/step - loss: 41.5214 - mean_absolute_error: 4.5443 - val_loss: 31.4174 - val_mean_absolute_error: 4.1257\n",
            "Epoch 30/75\n",
            "11/11 [==============================] - 0s 3ms/step - loss: 40.5998 - mean_absolute_error: 4.4929 - val_loss: 32.0254 - val_mean_absolute_error: 3.9540\n",
            "Epoch 31/75\n",
            "11/11 [==============================] - 0s 3ms/step - loss: 41.2632 - mean_absolute_error: 4.5441 - val_loss: 31.7476 - val_mean_absolute_error: 3.9083\n",
            "Epoch 32/75\n",
            "11/11 [==============================] - 0s 3ms/step - loss: 39.8704 - mean_absolute_error: 4.4194 - val_loss: 30.6780 - val_mean_absolute_error: 4.1276\n",
            "Epoch 33/75\n",
            "11/11 [==============================] - 0s 3ms/step - loss: 42.8757 - mean_absolute_error: 4.6679 - val_loss: 36.6142 - val_mean_absolute_error: 4.9498\n",
            "Epoch 34/75\n",
            "11/11 [==============================] - 0s 3ms/step - loss: 40.6823 - mean_absolute_error: 4.5188 - val_loss: 30.7363 - val_mean_absolute_error: 4.1694\n",
            "Epoch 35/75\n",
            "11/11 [==============================] - 0s 3ms/step - loss: 39.5306 - mean_absolute_error: 4.5087 - val_loss: 34.0067 - val_mean_absolute_error: 3.9314\n",
            "Epoch 36/75\n",
            "11/11 [==============================] - 0s 3ms/step - loss: 40.9437 - mean_absolute_error: 4.4572 - val_loss: 30.8539 - val_mean_absolute_error: 3.8351\n",
            "Epoch 37/75\n",
            "11/11 [==============================] - 0s 3ms/step - loss: 42.9575 - mean_absolute_error: 4.6723 - val_loss: 29.6218 - val_mean_absolute_error: 3.9594\n",
            "Epoch 38/75\n",
            "11/11 [==============================] - 0s 3ms/step - loss: 38.1990 - mean_absolute_error: 4.4087 - val_loss: 29.4198 - val_mean_absolute_error: 3.9732\n",
            "Epoch 39/75\n",
            "11/11 [==============================] - 0s 3ms/step - loss: 38.7341 - mean_absolute_error: 4.4703 - val_loss: 29.7918 - val_mean_absolute_error: 3.8422\n",
            "Epoch 40/75\n",
            "11/11 [==============================] - 0s 3ms/step - loss: 38.9456 - mean_absolute_error: 4.3785 - val_loss: 32.3187 - val_mean_absolute_error: 3.8462\n",
            "Epoch 41/75\n",
            "11/11 [==============================] - 0s 4ms/step - loss: 38.2799 - mean_absolute_error: 4.4367 - val_loss: 30.7569 - val_mean_absolute_error: 4.2897\n",
            "Epoch 42/75\n",
            "11/11 [==============================] - 0s 3ms/step - loss: 37.4761 - mean_absolute_error: 4.3411 - val_loss: 29.5060 - val_mean_absolute_error: 4.1464\n",
            "Epoch 43/75\n",
            "11/11 [==============================] - 0s 3ms/step - loss: 37.2431 - mean_absolute_error: 4.3153 - val_loss: 29.4496 - val_mean_absolute_error: 4.0997\n",
            "Epoch 44/75\n",
            "11/11 [==============================] - 0s 3ms/step - loss: 36.8492 - mean_absolute_error: 4.2677 - val_loss: 30.7025 - val_mean_absolute_error: 4.3628\n",
            "Epoch 45/75\n",
            "11/11 [==============================] - 0s 3ms/step - loss: 37.9502 - mean_absolute_error: 4.3424 - val_loss: 28.4773 - val_mean_absolute_error: 3.7813\n",
            "Epoch 46/75\n",
            "11/11 [==============================] - 0s 3ms/step - loss: 37.1587 - mean_absolute_error: 4.3463 - val_loss: 28.2999 - val_mean_absolute_error: 3.9334\n",
            "Epoch 47/75\n",
            "11/11 [==============================] - 0s 4ms/step - loss: 37.8863 - mean_absolute_error: 4.3551 - val_loss: 28.2433 - val_mean_absolute_error: 3.8257\n",
            "Epoch 48/75\n",
            "11/11 [==============================] - 0s 3ms/step - loss: 36.6062 - mean_absolute_error: 4.3134 - val_loss: 30.3133 - val_mean_absolute_error: 4.3480\n",
            "Epoch 49/75\n",
            "11/11 [==============================] - 0s 2ms/step - loss: 36.9962 - mean_absolute_error: 4.3741 - val_loss: 27.9536 - val_mean_absolute_error: 3.7885\n",
            "Epoch 50/75\n",
            "11/11 [==============================] - 0s 3ms/step - loss: 37.1227 - mean_absolute_error: 4.3465 - val_loss: 28.2915 - val_mean_absolute_error: 3.8880\n"
          ]
        },
        {
          "name": "stdout",
          "output_type": "stream",
          "text": [
            "Epoch 51/75\n",
            "11/11 [==============================] - 0s 3ms/step - loss: 38.9676 - mean_absolute_error: 4.4512 - val_loss: 32.8112 - val_mean_absolute_error: 4.6706\n",
            "Epoch 52/75\n",
            "11/11 [==============================] - 0s 3ms/step - loss: 36.6244 - mean_absolute_error: 4.2813 - val_loss: 33.5967 - val_mean_absolute_error: 4.7318\n",
            "Epoch 53/75\n",
            "11/11 [==============================] - 0s 3ms/step - loss: 39.0273 - mean_absolute_error: 4.4741 - val_loss: 27.9639 - val_mean_absolute_error: 4.0100\n",
            "Epoch 54/75\n",
            "11/11 [==============================] - 0s 3ms/step - loss: 38.8567 - mean_absolute_error: 4.5337 - val_loss: 28.9041 - val_mean_absolute_error: 3.7767\n",
            "Epoch 55/75\n",
            "11/11 [==============================] - 0s 3ms/step - loss: 36.9947 - mean_absolute_error: 4.3071 - val_loss: 27.4977 - val_mean_absolute_error: 3.8114\n",
            "Epoch 56/75\n",
            "11/11 [==============================] - 0s 2ms/step - loss: 35.1184 - mean_absolute_error: 4.3385 - val_loss: 28.1875 - val_mean_absolute_error: 3.9432\n",
            "Epoch 57/75\n",
            "11/11 [==============================] - 0s 3ms/step - loss: 34.2037 - mean_absolute_error: 4.1319 - val_loss: 28.1001 - val_mean_absolute_error: 3.7100\n",
            "Epoch 58/75\n",
            "11/11 [==============================] - 0s 2ms/step - loss: 35.1511 - mean_absolute_error: 4.2504 - val_loss: 27.6207 - val_mean_absolute_error: 3.8176\n",
            "Epoch 59/75\n",
            "11/11 [==============================] - 0s 3ms/step - loss: 34.5990 - mean_absolute_error: 4.1919 - val_loss: 27.6441 - val_mean_absolute_error: 3.9871\n",
            "Epoch 60/75\n",
            "11/11 [==============================] - 0s 3ms/step - loss: 34.2428 - mean_absolute_error: 4.0930 - val_loss: 29.8883 - val_mean_absolute_error: 4.3853\n",
            "Epoch 61/75\n",
            "11/11 [==============================] - 0s 3ms/step - loss: 34.3726 - mean_absolute_error: 4.1486 - val_loss: 39.7834 - val_mean_absolute_error: 5.2993\n",
            "Epoch 62/75\n",
            "11/11 [==============================] - 0s 4ms/step - loss: 36.5471 - mean_absolute_error: 4.4819 - val_loss: 31.4603 - val_mean_absolute_error: 4.5888\n",
            "Epoch 63/75\n",
            "11/11 [==============================] - 0s 3ms/step - loss: 34.2276 - mean_absolute_error: 4.1534 - val_loss: 26.9630 - val_mean_absolute_error: 3.8969\n",
            "Epoch 64/75\n",
            "11/11 [==============================] - 0s 3ms/step - loss: 33.9564 - mean_absolute_error: 4.2141 - val_loss: 28.1709 - val_mean_absolute_error: 4.1146\n",
            "Epoch 65/75\n",
            "11/11 [==============================] - 0s 3ms/step - loss: 34.2189 - mean_absolute_error: 4.2894 - val_loss: 26.8334 - val_mean_absolute_error: 3.7960\n",
            "Epoch 66/75\n",
            "11/11 [==============================] - 0s 3ms/step - loss: 33.8343 - mean_absolute_error: 4.0571 - val_loss: 28.2695 - val_mean_absolute_error: 3.7351\n",
            "Epoch 67/75\n",
            "11/11 [==============================] - 0s 3ms/step - loss: 33.5563 - mean_absolute_error: 4.1216 - val_loss: 32.9306 - val_mean_absolute_error: 4.7579\n",
            "Epoch 68/75\n",
            "11/11 [==============================] - 0s 3ms/step - loss: 36.1197 - mean_absolute_error: 4.3866 - val_loss: 26.8579 - val_mean_absolute_error: 3.9342\n",
            "Epoch 69/75\n",
            "11/11 [==============================] - 0s 3ms/step - loss: 34.7205 - mean_absolute_error: 4.2806 - val_loss: 28.5232 - val_mean_absolute_error: 3.7485\n",
            "Epoch 70/75\n",
            "11/11 [==============================] - 0s 3ms/step - loss: 33.5060 - mean_absolute_error: 4.1028 - val_loss: 26.5483 - val_mean_absolute_error: 3.7831\n",
            "Epoch 71/75\n",
            "11/11 [==============================] - 0s 3ms/step - loss: 31.9112 - mean_absolute_error: 4.0600 - val_loss: 28.6204 - val_mean_absolute_error: 3.7259\n",
            "Epoch 72/75\n",
            "11/11 [==============================] - 0s 3ms/step - loss: 32.8206 - mean_absolute_error: 4.0796 - val_loss: 27.1331 - val_mean_absolute_error: 3.6738\n",
            "Epoch 73/75\n",
            "11/11 [==============================] - 0s 2ms/step - loss: 32.6771 - mean_absolute_error: 4.0244 - val_loss: 35.3655 - val_mean_absolute_error: 5.0316\n",
            "Epoch 74/75\n",
            "11/11 [==============================] - 0s 2ms/step - loss: 36.7352 - mean_absolute_error: 4.6958 - val_loss: 52.5271 - val_mean_absolute_error: 6.2906\n",
            "Epoch 75/75\n",
            "11/11 [==============================] - 0s 3ms/step - loss: 46.3681 - mean_absolute_error: 5.1551 - val_loss: 27.6576 - val_mean_absolute_error: 4.1014\n"
          ]
        }
      ],
      "source": [
        "# Model fit\n",
        "history = model.fit(x=X_train, y= y_train, epochs=75 , batch_size = 32,validation_data= (X_test,y_test))"
      ]
    },
    {
      "cell_type": "code",
      "execution_count": null,
      "id": "5706addd",
      "metadata": {
        "id": "5706addd",
        "outputId": "784acf3a-13c0-4aad-bc8f-094abfc6cb71"
      },
      "outputs": [
        {
          "data": {
            "image/png": "[encoded data removed]",
            "text/plain": [
              "<Figure size 640x480 with 1 Axes>"
            ]
          },
          "metadata": {},
          "output_type": "display_data"
        }
      ],
      "source": [
        "# Loss curve\n",
        "train_loss = history.history['loss']\n",
        "val_loss = history.history['val_loss']\n",
        "\n",
        "plt.plot(train_loss)\n",
        "plt.plot(val_loss)\n",
        "plt.legend(['Train', 'Validation'])\n",
        "plt.xlabel('Epochs')\n",
        "plt.ylabel('Loss')\n",
        "plt.title(\"Loss Curve\")\n",
        "plt.grid()\n",
        "plt.show()"
      ]
    },
    {
      "cell_type": "code",
      "execution_count": null,
      "id": "09781779",
      "metadata": {
        "id": "09781779",
        "outputId": "9a38de63-7882-48ae-eb1f-485296d66da6"
      },
      "outputs": [
        {
          "data": {
            "image/png": "[encoded data removed]",
            "text/plain": [
              "<Figure size 640x480 with 1 Axes>"
            ]
          },
          "metadata": {},
          "output_type": "display_data"
        }
      ],
      "source": [
        "# Metric curve\n",
        "train_metric = history.history['mean_absolute_error']\n",
        "val_metric = history.history['val_mean_absolute_error']\n",
        "\n",
        "plt.plot(train_metric)\n",
        "plt.plot(val_metric)\n",
        "plt.legend(['Train', 'Validation'])\n",
        "plt.xlabel('Epochs')\n",
        "plt.ylabel('Metric')\n",
        "plt.title(\"Metric Curve\")\n",
        "plt.grid()\n",
        "plt.show()"
      ]
    }
  ],
  "metadata": {
    "kernelspec": {
      "display_name": "tf",
      "language": "python",
      "name": "tf"
    },
    "language_info": {
      "codemirror_mode": {
        "name": "ipython",
        "version": 3
      },
      "file_extension": ".py",
      "mimetype": "text/x-python",
      "name": "python",
      "nbconvert_exporter": "python",
      "pygments_lexer": "ipython3",
      "version": "3.8.8"
    },
    "colab": {
      "provenance": []
    }
  },
  "nbformat": 4,
  "nbformat_minor": 5
}