{
 "cells": [
  {
   "cell_type": "code",
   "execution_count": null,
   "metadata": {
    "id": "5a7b2a3e"
   },
   "outputs": [],
   "source": [
    "from tensorflow.keras.datasets import mnist\n",
    "from tensorflow.keras.models import Sequential\n",
    "from tensorflow.keras.layers import Input, Dense\n",
    "import matplotlib.pyplot as plt"
   ]
  },
  {
   "cell_type": "code",
   "execution_count": null,
   "metadata": {
    "id": "21136af2"
   },
   "outputs": [],
   "source": [
    "(x_train, _), (x_test, _) = mnist.load_data()"
   ]
  },
  {
   "cell_type": "code",
   "execution_count": null,
   "metadata": {
    "id": "7bfc172b",
    "outputId": "f82f1cae-35a0-4141-b433-54560783cf6d"
   },
   "outputs": [
    {
     "name": "stdout",
     "output_type": "stream",
     "text": [
      "(28, 28)\n",
      "(60000, 28, 28)\n"
     ]
    }
   ],
   "source": [
    "print(x_train[0].shape)\n",
    "print(x_train.shape)"
   ]
  },
  {
   "cell_type": "code",
   "execution_count": null,
   "metadata": {
    "id": "7de7bed1",
    "outputId": "928b4657-8783-4f38-a712-509a520974bf"
   },
   "outputs": [
    {
     "data": {
      "image/png": "[encoded data removed]",
      "text/plain": [
       "<Figure size 640x480 with 1 Axes>"
      ]
     },
     "metadata": {},
     "output_type": "display_data"
    }
   ],
   "source": [
    "plt.imshow(x_train[0], cmap='gray')\n",
    "plt.show()"
   ]
  },
  {
   "cell_type": "code",
   "execution_count": null,
   "metadata": {
    "id": "d12dff21"
   },
   "outputs": [],
   "source": [
    "x_train  = x_train.reshape(-1, 784)\n",
    "x_test  = x_test.reshape(-1, 784)"
   ]
  },
  {
   "cell_type": "code",
   "execution_count": null,
   "metadata": {
    "id": "bc5b3dd7"
   },
   "outputs": [],
   "source": [
    "model = Sequential()\n",
    "model.add(Input(shape=(784,)))\n",
    "model.add(Dense(128, activation='relu'))\n",
    "model.add(Dense(32, activation='relu'))\n",
    "model.add(Dense(128, activation='relu'))\n",
    "model.add(Dense(784))"
   ]
  },
  {
   "cell_type": "code",
   "execution_count": null,
   "metadata": {
    "id": "53bf79ff"
   },
   "outputs": [],
   "source": [
    "model.compile(optimizer='adam',\n",
    "             loss='mean_squared_error',\n",
    "             metrics=\"mean_squared_error\")"
   ]
  },
  {
   "cell_type": "code",
   "execution_count": null,
   "metadata": {
    "id": "fa873b61",
    "outputId": "ad99960d-469c-4d73-90c9-9eb9eb17d97f",
    "scrolled": true
   },
   "outputs": [
    {
     "name": "stdout",
     "output_type": "stream",
     "text": [
      "Epoch 1/50\n",
      "60/60 [==============================] - 1s 16ms/step - loss: 1269.3688 - mean_squared_error: 1269.3688 - val_loss: 1242.6718 - val_mean_squared_error: 1242.6718\n",
      "Epoch 2/50\n",
      "60/60 [==============================] - 1s 16ms/step - loss: 1261.4249 - mean_squared_error: 1261.4249 - val_loss: 1237.1488 - val_mean_squared_error: 1237.1488\n",
      "Epoch 3/50\n",
      "60/60 [==============================] - 1s 17ms/step - loss: 1253.5477 - mean_squared_error: 1253.5477 - val_loss: 1227.7928 - val_mean_squared_error: 1227.7928\n",
      "Epoch 4/50\n",
      "60/60 [==============================] - 1s 18ms/step - loss: 1246.0298 - mean_squared_error: 1246.0298 - val_loss: 1221.1936 - val_mean_squared_error: 1221.1936\n",
      "Epoch 5/50\n",
      "60/60 [==============================] - 1s 17ms/step - loss: 1238.8789 - mean_squared_error: 1238.8789 - val_loss: 1216.1469 - val_mean_squared_error: 1216.1469\n",
      "Epoch 6/50\n",
      "60/60 [==============================] - 1s 17ms/step - loss: 1231.9017 - mean_squared_error: 1231.9017 - val_loss: 1208.2195 - val_mean_squared_error: 1208.2195\n",
      "Epoch 7/50\n",
      "60/60 [==============================] - 1s 17ms/step - loss: 1225.1410 - mean_squared_error: 1225.1410 - val_loss: 1202.4890 - val_mean_squared_error: 1202.4890\n",
      "Epoch 8/50\n",
      "60/60 [==============================] - 1s 16ms/step - loss: 1220.3124 - mean_squared_error: 1220.3124 - val_loss: 1197.0876 - val_mean_squared_error: 1197.0876\n",
      "Epoch 9/50\n",
      "60/60 [==============================] - 1s 17ms/step - loss: 1214.6923 - mean_squared_error: 1214.6923 - val_loss: 1192.2260 - val_mean_squared_error: 1192.2260\n",
      "Epoch 10/50\n",
      "60/60 [==============================] - 1s 18ms/step - loss: 1210.1350 - mean_squared_error: 1210.1350 - val_loss: 1186.1008 - val_mean_squared_error: 1186.1008\n",
      "Epoch 11/50\n",
      "60/60 [==============================] - 1s 17ms/step - loss: 1204.9512 - mean_squared_error: 1204.9512 - val_loss: 1184.3025 - val_mean_squared_error: 1184.3025\n",
      "Epoch 12/50\n",
      "60/60 [==============================] - 1s 17ms/step - loss: 1200.4929 - mean_squared_error: 1200.4929 - val_loss: 1176.9617 - val_mean_squared_error: 1176.9617\n",
      "Epoch 13/50\n",
      "60/60 [==============================] - 1s 18ms/step - loss: 1195.1995 - mean_squared_error: 1195.1995 - val_loss: 1172.9762 - val_mean_squared_error: 1172.9762\n",
      "Epoch 14/50\n",
      "60/60 [==============================] - 1s 17ms/step - loss: 1190.6028 - mean_squared_error: 1190.6028 - val_loss: 1168.1733 - val_mean_squared_error: 1168.1733\n",
      "Epoch 15/50\n",
      "60/60 [==============================] - 1s 19ms/step - loss: 1186.3647 - mean_squared_error: 1186.3647 - val_loss: 1164.5044 - val_mean_squared_error: 1164.5044\n",
      "Epoch 16/50\n",
      "60/60 [==============================] - 1s 18ms/step - loss: 1181.6504 - mean_squared_error: 1181.6504 - val_loss: 1158.7664 - val_mean_squared_error: 1158.7664\n",
      "Epoch 17/50\n",
      "60/60 [==============================] - 1s 16ms/step - loss: 1178.1282 - mean_squared_error: 1178.1282 - val_loss: 1157.2858 - val_mean_squared_error: 1157.2858\n",
      "Epoch 18/50\n",
      "60/60 [==============================] - 1s 17ms/step - loss: 1173.9905 - mean_squared_error: 1173.9905 - val_loss: 1151.5044 - val_mean_squared_error: 1151.5044\n",
      "Epoch 19/50\n",
      "60/60 [==============================] - 1s 17ms/step - loss: 1169.9138 - mean_squared_error: 1169.9138 - val_loss: 1149.1844 - val_mean_squared_error: 1149.1844\n",
      "Epoch 20/50\n",
      "60/60 [==============================] - 1s 17ms/step - loss: 1166.0115 - mean_squared_error: 1166.0115 - val_loss: 1145.3770 - val_mean_squared_error: 1145.3770\n",
      "Epoch 21/50\n",
      "60/60 [==============================] - 1s 17ms/step - loss: 1162.7783 - mean_squared_error: 1162.7783 - val_loss: 1141.9041 - val_mean_squared_error: 1141.9041\n",
      "Epoch 22/50\n",
      "60/60 [==============================] - 1s 17ms/step - loss: 1158.6503 - mean_squared_error: 1158.6503 - val_loss: 1138.2098 - val_mean_squared_error: 1138.2098\n",
      "Epoch 23/50\n",
      "60/60 [==============================] - 1s 18ms/step - loss: 1154.5770 - mean_squared_error: 1154.5770 - val_loss: 1133.3695 - val_mean_squared_error: 1133.3695\n",
      "Epoch 24/50\n",
      "60/60 [==============================] - 1s 16ms/step - loss: 1147.9958 - mean_squared_error: 1147.9958 - val_loss: 1123.1078 - val_mean_squared_error: 1123.1078\n",
      "Epoch 25/50\n",
      "60/60 [==============================] - 1s 16ms/step - loss: 1137.6132 - mean_squared_error: 1137.6132 - val_loss: 1115.4564 - val_mean_squared_error: 1115.4564\n",
      "Epoch 26/50\n",
      "60/60 [==============================] - 1s 16ms/step - loss: 1130.6459 - mean_squared_error: 1130.6459 - val_loss: 1108.4731 - val_mean_squared_error: 1108.4731\n",
      "Epoch 27/50\n",
      "60/60 [==============================] - 1s 17ms/step - loss: 1125.3124 - mean_squared_error: 1125.3124 - val_loss: 1103.4595 - val_mean_squared_error: 1103.4595\n",
      "Epoch 28/50\n",
      "60/60 [==============================] - 1s 23ms/step - loss: 1120.0964 - mean_squared_error: 1120.0964 - val_loss: 1096.8958 - val_mean_squared_error: 1096.8958\n",
      "Epoch 29/50\n",
      "60/60 [==============================] - 1s 20ms/step - loss: 1114.3711 - mean_squared_error: 1114.3711 - val_loss: 1094.5354 - val_mean_squared_error: 1094.5354\n",
      "Epoch 30/50\n",
      "60/60 [==============================] - 1s 18ms/step - loss: 1110.5424 - mean_squared_error: 1110.5424 - val_loss: 1089.3157 - val_mean_squared_error: 1089.3157\n",
      "Epoch 31/50\n",
      "60/60 [==============================] - 1s 16ms/step - loss: 1106.7322 - mean_squared_error: 1106.7322 - val_loss: 1087.7637 - val_mean_squared_error: 1087.7637\n",
      "Epoch 32/50\n",
      "60/60 [==============================] - 1s 17ms/step - loss: 1102.5979 - mean_squared_error: 1102.5979 - val_loss: 1081.6031 - val_mean_squared_error: 1081.6031\n",
      "Epoch 33/50\n",
      "60/60 [==============================] - 1s 17ms/step - loss: 1098.7393 - mean_squared_error: 1098.7393 - val_loss: 1077.9197 - val_mean_squared_error: 1077.9197\n",
      "Epoch 34/50\n",
      "60/60 [==============================] - 1s 17ms/step - loss: 1095.5148 - mean_squared_error: 1095.5148 - val_loss: 1075.5490 - val_mean_squared_error: 1075.5490\n",
      "Epoch 35/50\n",
      "60/60 [==============================] - 1s 23ms/step - loss: 1092.2823 - mean_squared_error: 1092.2823 - val_loss: 1071.3761 - val_mean_squared_error: 1071.3761\n",
      "Epoch 36/50\n",
      "60/60 [==============================] - 1s 20ms/step - loss: 1089.0391 - mean_squared_error: 1089.0391 - val_loss: 1071.1633 - val_mean_squared_error: 1071.1633\n",
      "Epoch 37/50\n",
      "60/60 [==============================] - 1s 16ms/step - loss: 1087.2812 - mean_squared_error: 1087.2812 - val_loss: 1066.7892 - val_mean_squared_error: 1066.7892\n",
      "Epoch 38/50\n",
      "60/60 [==============================] - 1s 17ms/step - loss: 1084.1741 - mean_squared_error: 1084.1741 - val_loss: 1064.6772 - val_mean_squared_error: 1064.6772\n",
      "Epoch 39/50\n",
      "60/60 [==============================] - 1s 18ms/step - loss: 1081.6053 - mean_squared_error: 1081.6053 - val_loss: 1062.4843 - val_mean_squared_error: 1062.4843\n",
      "Epoch 40/50\n",
      "60/60 [==============================] - 1s 16ms/step - loss: 1078.4865 - mean_squared_error: 1078.4865 - val_loss: 1059.5774 - val_mean_squared_error: 1059.5774\n",
      "Epoch 41/50\n",
      "60/60 [==============================] - 1s 16ms/step - loss: 1076.7622 - mean_squared_error: 1076.7622 - val_loss: 1057.6910 - val_mean_squared_error: 1057.6910\n",
      "Epoch 42/50\n",
      "60/60 [==============================] - 1s 16ms/step - loss: 1074.3135 - mean_squared_error: 1074.3135 - val_loss: 1056.7784 - val_mean_squared_error: 1056.7784\n",
      "Epoch 43/50\n",
      "60/60 [==============================] - 1s 15ms/step - loss: 1071.4237 - mean_squared_error: 1071.4237 - val_loss: 1052.2722 - val_mean_squared_error: 1052.2722\n",
      "Epoch 44/50\n",
      "60/60 [==============================] - 1s 16ms/step - loss: 1069.7421 - mean_squared_error: 1069.7421 - val_loss: 1051.5681 - val_mean_squared_error: 1051.5681\n",
      "Epoch 45/50\n",
      "60/60 [==============================] - 1s 17ms/step - loss: 1067.1946 - mean_squared_error: 1067.1946 - val_loss: 1050.7303 - val_mean_squared_error: 1050.7303\n",
      "Epoch 46/50\n",
      "60/60 [==============================] - 1s 16ms/step - loss: 1065.5894 - mean_squared_error: 1065.5894 - val_loss: 1049.5613 - val_mean_squared_error: 1049.5613\n",
      "Epoch 47/50\n",
      "60/60 [==============================] - 1s 16ms/step - loss: 1062.7946 - mean_squared_error: 1062.7946 - val_loss: 1044.9840 - val_mean_squared_error: 1044.9840\n",
      "Epoch 48/50\n",
      "60/60 [==============================] - 1s 15ms/step - loss: 1060.9523 - mean_squared_error: 1060.9523 - val_loss: 1044.6724 - val_mean_squared_error: 1044.6724\n",
      "Epoch 49/50\n",
      "60/60 [==============================] - 1s 15ms/step - loss: 1057.7673 - mean_squared_error: 1057.7673 - val_loss: 1038.1476 - val_mean_squared_error: 1038.1476\n",
      "Epoch 50/50\n",
      "60/60 [==============================] - 1s 14ms/step - loss: 1054.3472 - mean_squared_error: 1054.3472 - val_loss: 1038.4659 - val_mean_squared_error: 1038.4659\n"
     ]
    },
    {
     "data": {
      "text/plain": [
       "<tensorflow.python.keras.callbacks.History at 0x16498bf0af0>"
      ]
     },
     "execution_count": 15,
     "metadata": {},
     "output_type": "execute_result"
    }
   ],
   "source": [
    "model.fit(x=x_train,\n",
    "         y=x_train,\n",
    "         epochs=50,\n",
    "         batch_size=1000,\n",
    "         validation_data=(x_test, x_test))"
   ]
  },
  {
   "cell_type": "code",
   "execution_count": null,
   "metadata": {
    "id": "cfd28e09",
    "outputId": "8428384f-1048-41dd-f4e4-c83b5ef3bfab"
   },
   "outputs": [
    {
     "name": "stdout",
     "output_type": "stream",
     "text": [
      "Model: \"sequential\"\n",
      "_________________________________________________________________\n",
      "Layer (type)                 Output Shape              Param #   \n",
      "=================================================================\n",
      "dense (Dense)                (None, 128)               100480    \n",
      "_________________________________________________________________\n",
      "dense_1 (Dense)              (None, 32)                4128      \n",
      "_________________________________________________________________\n",
      "dense_2 (Dense)              (None, 128)               4224      \n",
      "_________________________________________________________________\n",
      "dense_3 (Dense)              (None, 784)               101136    \n",
      "=================================================================\n",
      "Total params: 209,968\n",
      "Trainable params: 209,968\n",
      "Non-trainable params: 0\n",
      "_________________________________________________________________\n"
     ]
    }
   ],
   "source": [
    "model.summary()"
   ]
  },
  {
   "cell_type": "code",
   "execution_count": null,
   "metadata": {
    "id": "708ab92f",
    "outputId": "ba48ee27-5575-4b3d-b2b1-d5cba97f0fa2"
   },
   "outputs": [
    {
     "name": "stdout",
     "output_type": "stream",
     "text": [
      "<tensorflow.python.keras.layers.core.Dense object at 0x0000016493EE7E20>\n",
      "<tensorflow.python.keras.layers.core.Dense object at 0x00000164941FAA00>\n",
      "<tensorflow.python.keras.layers.core.Dense object at 0x0000016493F29550>\n",
      "<tensorflow.python.keras.layers.core.Dense object at 0x0000016493F2FFD0>\n"
     ]
    }
   ],
   "source": [
    "for i in model.layers:\n",
    "    print(i)"
   ]
  },
  {
   "cell_type": "markdown",
   "metadata": {
    "id": "55a649b2"
   },
   "source": [
    "### Encoder"
   ]
  },
  {
   "cell_type": "code",
   "execution_count": null,
   "metadata": {
    "id": "3c3c3ae6"
   },
   "outputs": [],
   "source": [
    "encoder = Sequential()\n",
    "for layer in model.layers[:2]:\n",
    "    encoder.add(layer)"
   ]
  },
  {
   "cell_type": "code",
   "execution_count": null,
   "metadata": {
    "id": "540f9a63",
    "outputId": "3f74e83c-9b5a-4eb2-85c8-460353401e4d",
    "scrolled": true
   },
   "outputs": [
    {
     "name": "stdout",
     "output_type": "stream",
     "text": [
      "Model: \"sequential_1\"\n",
      "_________________________________________________________________\n",
      "Layer (type)                 Output Shape              Param #   \n",
      "=================================================================\n",
      "dense (Dense)                (None, 128)               100480    \n",
      "_________________________________________________________________\n",
      "dense_1 (Dense)              (None, 32)                4128      \n",
      "=================================================================\n",
      "Total params: 104,608\n",
      "Trainable params: 104,608\n",
      "Non-trainable params: 0\n",
      "_________________________________________________________________\n"
     ]
    }
   ],
   "source": [
    "encoder.build(input_shape=(None, 784))\n",
    "encoder.summary()"
   ]
  },
  {
   "cell_type": "markdown",
   "metadata": {
    "id": "0c95d1ec"
   },
   "source": [
    "### Decoder"
   ]
  },
  {
   "cell_type": "code",
   "execution_count": null,
   "metadata": {
    "id": "49ddcf79"
   },
   "outputs": [],
   "source": [
    "decoder = Sequential()\n",
    "for layer in model.layers[2:]:\n",
    "    decoder.add(layer)"
   ]
  },
  {
   "cell_type": "code",
   "execution_count": null,
   "metadata": {
    "id": "f0398da0",
    "outputId": "cb0dcf4c-5169-43d0-f096-07b61db2cf08"
   },
   "outputs": [
    {
     "name": "stdout",
     "output_type": "stream",
     "text": [
      "Model: \"sequential_3\"\n",
      "_________________________________________________________________\n",
      "Layer (type)                 Output Shape              Param #   \n",
      "=================================================================\n",
      "dense_2 (Dense)              (None, 128)               4224      \n",
      "_________________________________________________________________\n",
      "dense_3 (Dense)              (None, 784)               101136    \n",
      "=================================================================\n",
      "Total params: 105,360\n",
      "Trainable params: 105,360\n",
      "Non-trainable params: 0\n",
      "_________________________________________________________________\n"
     ]
    }
   ],
   "source": [
    "decoder.build(input_shape=(None, 32))\n",
    "decoder.summary()"
   ]
  },
  {
   "cell_type": "markdown",
   "metadata": {
    "id": "58db5242"
   },
   "source": [
    "## Example Test"
   ]
  },
  {
   "cell_type": "code",
   "execution_count": null,
   "metadata": {
    "id": "2e023966",
    "outputId": "a5b38da7-2755-4c5a-cd82-667128e4478b"
   },
   "outputs": [
    {
     "data": {
      "image/png": "[encoded data removed]",
      "text/plain": [
       "<Figure size 640x480 with 1 Axes>"
      ]
     },
     "metadata": {},
     "output_type": "display_data"
    }
   ],
   "source": [
    "plt.imshow(x_test[12].reshape(28,28), cmap='gray')\n",
    "plt.show()"
   ]
  },
  {
   "cell_type": "code",
   "execution_count": null,
   "metadata": {
    "id": "dd269917"
   },
   "outputs": [],
   "source": [
    "code = encoder.predict(x_test) # Compressed representation"
   ]
  },
  {
   "cell_type": "code",
   "execution_count": null,
   "metadata": {
    "id": "c76c6ddc",
    "outputId": "37e5dfab-c93f-4bb6-8a7a-7e8465c16858"
   },
   "outputs": [
    {
     "data": {
      "text/plain": [
       "(32,)"
      ]
     },
     "execution_count": 31,
     "metadata": {},
     "output_type": "execute_result"
    }
   ],
   "source": [
    "code[12].shape"
   ]
  },
  {
   "cell_type": "code",
   "execution_count": null,
   "metadata": {
    "id": "b88eba4f"
   },
   "outputs": [],
   "source": [
    "recon = decoder.predict(code)"
   ]
  },
  {
   "cell_type": "code",
   "execution_count": null,
   "metadata": {
    "id": "5ccb69c4",
    "outputId": "de89c685-2607-4e5a-953a-f72c48786ba9"
   },
   "outputs": [
    {
     "data": {
      "text/plain": [
       "(784,)"
      ]
     },
     "execution_count": 34,
     "metadata": {},
     "output_type": "execute_result"
    }
   ],
   "source": [
    "recon[12].shape"
   ]
  },
  {
   "cell_type": "code",
   "execution_count": null,
   "metadata": {
    "id": "69df1f03",
    "outputId": "5650a78c-159a-4caf-fe51-09cbd2d01be9"
   },
   "outputs": [
    {
     "data": {
      "image/png": "[encoded data removed]",
      "text/plain": [
       "<Figure size 640x480 with 1 Axes>"
      ]
     },
     "metadata": {},
     "output_type": "display_data"
    }
   ],
   "source": [
    "plt.imshow(recon[12].reshape(28,28), cmap='gray')\n",
    "plt.show()"
   ]
  },
  {
   "cell_type": "code",
   "execution_count": null,
   "metadata": {
    "id": "6248fcce",
    "outputId": "f120d15c-f1cc-432e-d0db-12dad12e0f88"
   },
   "outputs": [
    {
     "data": {
      "text/plain": [
       "0.04081632653061224"
      ]
     },
     "execution_count": 37,
     "metadata": {},
     "output_type": "execute_result"
    }
   ],
   "source": [
    "32/784"
   ]
  }
 ],
 "metadata": {
  "colab": {
   "provenance": []
  },
  "kernelspec": {
   "display_name": "Python 3",
   "language": "python",
   "name": "python3"
  },
  "language_info": {
   "codemirror_mode": {
    "name": "ipython",
    "version": 3
   },
   "file_extension": ".py",
   "mimetype": "text/x-python",
   "name": "python",
   "nbconvert_exporter": "python",
   "pygments_lexer": "ipython3",
   "version": "3.8.3"
  }
 },
 "nbformat": 4,
 "nbformat_minor": 5
}
