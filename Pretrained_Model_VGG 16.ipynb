{
  "cells": [
    {
      "cell_type": "code",
      "execution_count": null,
      "id": "1095ce17",
      "metadata": {
        "id": "1095ce17"
      },
      "outputs": [],
      "source": [
        "import pandas as pd"
      ]
    },
    {
      "cell_type": "code",
      "execution_count": null,
      "id": "275fd2ee",
      "metadata": {
        "id": "275fd2ee"
      },
      "outputs": [],
      "source": [
        "label = pd.read_json(r\"C:\\Users\\phani\\Downloads\\imagenet_class_index.json\")\n",
        "label = label.T[[1]]"
      ]
    },
    {
      "cell_type": "code",
      "execution_count": null,
      "id": "dc8b1c8a",
      "metadata": {
        "id": "dc8b1c8a"
      },
      "outputs": [],
      "source": [
        "from tensorflow.keras.applications import VGG16\n",
        "from tensorflow.keras.preprocessing import image\n",
        "from tensorflow.keras.applications.vgg16 import preprocess_input\n",
        "import numpy as np\n",
        "from tensorflow.keras.models import Sequential\n",
        "from tensorflow.keras.layers import Dense\n",
        "import glob"
      ]
    },
    {
      "cell_type": "code",
      "execution_count": null,
      "id": "a125bca2",
      "metadata": {
        "id": "a125bca2"
      },
      "outputs": [],
      "source": [
        "model = VGG16(weights=\"imagenet\") # 1000 class classification"
      ]
    },
    {
      "cell_type": "code",
      "execution_count": null,
      "id": "40c14afc",
      "metadata": {
        "id": "40c14afc"
      },
      "outputs": [],
      "source": [
        "input_img= image.load_img(r\"C:\\Users\\phani\\OneDrive\\Trainings\\IP Training AI\\AI and Deep Learning using TensorFLow\\Module 5\\In-Class Demo\\ImagesToTest\\big_Shadow_1yr_old.jpg\" ,target_size=(224,224))\n",
        "input_img = np.array(input_img).reshape(-1,224,224,3)\n",
        "input_img = preprocess_input(input_img)"
      ]
    },
    {
      "cell_type": "code",
      "execution_count": null,
      "id": "73e92ccd",
      "metadata": {
        "id": "73e92ccd",
        "outputId": "b6a95d4a-d061-4a30-8da1-387832e8ec6c"
      },
      "outputs": [
        {
          "data": {
            "text/html": [
              "<div>\n",
              "<style scoped>\n",
              "    .dataframe tbody tr th:only-of-type {\n",
              "        vertical-align: middle;\n",
              "    }\n",
              "\n",
              "    .dataframe tbody tr th {\n",
              "        vertical-align: top;\n",
              "    }\n",
              "\n",
              "    .dataframe thead th {\n",
              "        text-align: right;\n",
              "    }\n",
              "</style>\n",
              "<table border=\"1\" class=\"dataframe\">\n",
              "  <thead>\n",
              "    <tr style=\"text-align: right;\">\n",
              "      <th></th>\n",
              "      <th>id</th>\n",
              "      <th>prob</th>\n",
              "      <th>1</th>\n",
              "    </tr>\n",
              "  </thead>\n",
              "  <tbody>\n",
              "    <tr>\n",
              "      <th>250</th>\n",
              "      <td>250</td>\n",
              "      <td>5.650504e-01</td>\n",
              "      <td>Siberian_husky</td>\n",
              "    </tr>\n",
              "    <tr>\n",
              "      <th>248</th>\n",
              "      <td>248</td>\n",
              "      <td>3.791240e-01</td>\n",
              "      <td>Eskimo_dog</td>\n",
              "    </tr>\n",
              "    <tr>\n",
              "      <th>249</th>\n",
              "      <td>249</td>\n",
              "      <td>5.144948e-02</td>\n",
              "      <td>malamute</td>\n",
              "    </tr>\n",
              "    <tr>\n",
              "      <th>537</th>\n",
              "      <td>537</td>\n",
              "      <td>1.707264e-03</td>\n",
              "      <td>dogsled</td>\n",
              "    </tr>\n",
              "    <tr>\n",
              "      <th>235</th>\n",
              "      <td>235</td>\n",
              "      <td>7.207285e-04</td>\n",
              "      <td>German_shepherd</td>\n",
              "    </tr>\n",
              "    <tr>\n",
              "      <th>...</th>\n",
              "      <td>...</td>\n",
              "      <td>...</td>\n",
              "      <td>...</td>\n",
              "    </tr>\n",
              "    <tr>\n",
              "      <th>92</th>\n",
              "      <td>92</td>\n",
              "      <td>3.636850e-10</td>\n",
              "      <td>bee_eater</td>\n",
              "    </tr>\n",
              "    <tr>\n",
              "      <th>37</th>\n",
              "      <td>37</td>\n",
              "      <td>3.218674e-10</td>\n",
              "      <td>box_turtle</td>\n",
              "    </tr>\n",
              "    <tr>\n",
              "      <th>91</th>\n",
              "      <td>91</td>\n",
              "      <td>2.804102e-10</td>\n",
              "      <td>coucal</td>\n",
              "    </tr>\n",
              "    <tr>\n",
              "      <th>45</th>\n",
              "      <td>45</td>\n",
              "      <td>1.963449e-10</td>\n",
              "      <td>Gila_monster</td>\n",
              "    </tr>\n",
              "    <tr>\n",
              "      <th>69</th>\n",
              "      <td>69</td>\n",
              "      <td>1.596310e-10</td>\n",
              "      <td>trilobite</td>\n",
              "    </tr>\n",
              "  </tbody>\n",
              "</table>\n",
              "<p>1000 rows × 3 columns</p>\n",
              "</div>"
            ],
            "text/plain": [
              "      id          prob                1\n",
              "250  250  5.650504e-01   Siberian_husky\n",
              "248  248  3.791240e-01       Eskimo_dog\n",
              "249  249  5.144948e-02         malamute\n",
              "537  537  1.707264e-03          dogsled\n",
              "235  235  7.207285e-04  German_shepherd\n",
              "..   ...           ...              ...\n",
              "92    92  3.636850e-10        bee_eater\n",
              "37    37  3.218674e-10       box_turtle\n",
              "91    91  2.804102e-10           coucal\n",
              "45    45  1.963449e-10     Gila_monster\n",
              "69    69  1.596310e-10        trilobite\n",
              "\n",
              "[1000 rows x 3 columns]"
            ]
          },
          "execution_count": 91,
          "metadata": {},
          "output_type": "execute_result"
        }
      ],
      "source": [
        "preds = model.predict(input_img).flatten()\n",
        "output = pd.DataFrame({\"id\":range(len(preds)), \"prob\":preds})\n",
        "output.join(label).sort_values(\"prob\", ascending=False)"
      ]
    },
    {
      "cell_type": "markdown",
      "id": "406ec412",
      "metadata": {
        "id": "406ec412"
      },
      "source": [
        "#### Finetuning VGG16 with custom data"
      ]
    },
    {
      "cell_type": "code",
      "execution_count": null,
      "id": "da8faee2",
      "metadata": {
        "scrolled": true,
        "id": "da8faee2",
        "outputId": "dbf8683c-69fe-4655-d426-d14eb7e2dc09"
      },
      "outputs": [
        {
          "name": "stdout",
          "output_type": "stream",
          "text": [
            "Model: \"vgg16\"\n",
            "_________________________________________________________________\n",
            "Layer (type)                 Output Shape              Param #   \n",
            "=================================================================\n",
            "input_5 (InputLayer)         [(None, 224, 224, 3)]     0         \n",
            "_________________________________________________________________\n",
            "block1_conv1 (Conv2D)        (None, 224, 224, 64)      1792      \n",
            "_________________________________________________________________\n",
            "block1_conv2 (Conv2D)        (None, 224, 224, 64)      36928     \n",
            "_________________________________________________________________\n",
            "block1_pool (MaxPooling2D)   (None, 112, 112, 64)      0         \n",
            "_________________________________________________________________\n",
            "block2_conv1 (Conv2D)        (None, 112, 112, 128)     73856     \n",
            "_________________________________________________________________\n",
            "block2_conv2 (Conv2D)        (None, 112, 112, 128)     147584    \n",
            "_________________________________________________________________\n",
            "block2_pool (MaxPooling2D)   (None, 56, 56, 128)       0         \n",
            "_________________________________________________________________\n",
            "block3_conv1 (Conv2D)        (None, 56, 56, 256)       295168    \n",
            "_________________________________________________________________\n",
            "block3_conv2 (Conv2D)        (None, 56, 56, 256)       590080    \n",
            "_________________________________________________________________\n",
            "block3_conv3 (Conv2D)        (None, 56, 56, 256)       590080    \n",
            "_________________________________________________________________\n",
            "block3_pool (MaxPooling2D)   (None, 28, 28, 256)       0         \n",
            "_________________________________________________________________\n",
            "block4_conv1 (Conv2D)        (None, 28, 28, 512)       1180160   \n",
            "_________________________________________________________________\n",
            "block4_conv2 (Conv2D)        (None, 28, 28, 512)       2359808   \n",
            "_________________________________________________________________\n",
            "block4_conv3 (Conv2D)        (None, 28, 28, 512)       2359808   \n",
            "_________________________________________________________________\n",
            "block4_pool (MaxPooling2D)   (None, 14, 14, 512)       0         \n",
            "_________________________________________________________________\n",
            "block5_conv1 (Conv2D)        (None, 14, 14, 512)       2359808   \n",
            "_________________________________________________________________\n",
            "block5_conv2 (Conv2D)        (None, 14, 14, 512)       2359808   \n",
            "_________________________________________________________________\n",
            "block5_conv3 (Conv2D)        (None, 14, 14, 512)       2359808   \n",
            "_________________________________________________________________\n",
            "block5_pool (MaxPooling2D)   (None, 7, 7, 512)         0         \n",
            "_________________________________________________________________\n",
            "flatten (Flatten)            (None, 25088)             0         \n",
            "_________________________________________________________________\n",
            "fc1 (Dense)                  (None, 4096)              102764544 \n",
            "_________________________________________________________________\n",
            "fc2 (Dense)                  (None, 4096)              16781312  \n",
            "_________________________________________________________________\n",
            "predictions (Dense)          (None, 1000)              4097000   \n",
            "=================================================================\n",
            "Total params: 138,357,544\n",
            "Trainable params: 138,357,544\n",
            "Non-trainable params: 0\n",
            "_________________________________________________________________\n"
          ]
        }
      ],
      "source": [
        "model.summary()"
      ]
    },
    {
      "cell_type": "code",
      "execution_count": null,
      "id": "41982479",
      "metadata": {
        "id": "41982479"
      },
      "outputs": [],
      "source": [
        "newModel = Sequential()#empty model\n",
        "for layer in model.layers[:-1]:\n",
        "    layer.trainable = False\n",
        "    newModel.add(layer)\n",
        "\n",
        "newModel.add(Dense(1, \"sigmoid\"))"
      ]
    },
    {
      "cell_type": "code",
      "execution_count": null,
      "id": "32ed0251",
      "metadata": {
        "scrolled": true,
        "id": "32ed0251",
        "outputId": "88e7ac0f-8e82-45d8-d7fe-e07e74693d0f"
      },
      "outputs": [
        {
          "name": "stdout",
          "output_type": "stream",
          "text": [
            "Model: \"sequential_3\"\n",
            "_________________________________________________________________\n",
            "Layer (type)                 Output Shape              Param #   \n",
            "=================================================================\n",
            "block1_conv1 (Conv2D)        (None, 224, 224, 64)      1792      \n",
            "_________________________________________________________________\n",
            "block1_conv2 (Conv2D)        (None, 224, 224, 64)      36928     \n",
            "_________________________________________________________________\n",
            "block1_pool (MaxPooling2D)   (None, 112, 112, 64)      0         \n",
            "_________________________________________________________________\n",
            "block2_conv1 (Conv2D)        (None, 112, 112, 128)     73856     \n",
            "_________________________________________________________________\n",
            "block2_conv2 (Conv2D)        (None, 112, 112, 128)     147584    \n",
            "_________________________________________________________________\n",
            "block2_pool (MaxPooling2D)   (None, 56, 56, 128)       0         \n",
            "_________________________________________________________________\n",
            "block3_conv1 (Conv2D)        (None, 56, 56, 256)       295168    \n",
            "_________________________________________________________________\n",
            "block3_conv2 (Conv2D)        (None, 56, 56, 256)       590080    \n",
            "_________________________________________________________________\n",
            "block3_conv3 (Conv2D)        (None, 56, 56, 256)       590080    \n",
            "_________________________________________________________________\n",
            "block3_pool (MaxPooling2D)   (None, 28, 28, 256)       0         \n",
            "_________________________________________________________________\n",
            "block4_conv1 (Conv2D)        (None, 28, 28, 512)       1180160   \n",
            "_________________________________________________________________\n",
            "block4_conv2 (Conv2D)        (None, 28, 28, 512)       2359808   \n",
            "_________________________________________________________________\n",
            "block4_conv3 (Conv2D)        (None, 28, 28, 512)       2359808   \n",
            "_________________________________________________________________\n",
            "block4_pool (MaxPooling2D)   (None, 14, 14, 512)       0         \n",
            "_________________________________________________________________\n",
            "block5_conv1 (Conv2D)        (None, 14, 14, 512)       2359808   \n",
            "_________________________________________________________________\n",
            "block5_conv2 (Conv2D)        (None, 14, 14, 512)       2359808   \n",
            "_________________________________________________________________\n",
            "block5_conv3 (Conv2D)        (None, 14, 14, 512)       2359808   \n",
            "_________________________________________________________________\n",
            "block5_pool (MaxPooling2D)   (None, 7, 7, 512)         0         \n",
            "_________________________________________________________________\n",
            "flatten (Flatten)            (None, 25088)             0         \n",
            "_________________________________________________________________\n",
            "fc1 (Dense)                  (None, 4096)              102764544 \n",
            "_________________________________________________________________\n",
            "fc2 (Dense)                  (None, 4096)              16781312  \n",
            "_________________________________________________________________\n",
            "dense_1 (Dense)              (None, 1)                 4097      \n",
            "=================================================================\n",
            "Total params: 134,264,641\n",
            "Trainable params: 4,097\n",
            "Non-trainable params: 134,260,544\n",
            "_________________________________________________________________\n"
          ]
        }
      ],
      "source": [
        "newModel.summary()"
      ]
    },
    {
      "cell_type": "code",
      "execution_count": null,
      "id": "29a3a5e3",
      "metadata": {
        "id": "29a3a5e3"
      },
      "outputs": [],
      "source": [
        "newModel.compile(optimizer = \"adam\", loss=\"binary_crossentropy\",metrics=[\"accuracy\"])"
      ]
    },
    {
      "cell_type": "code",
      "execution_count": null,
      "id": "fa235b62",
      "metadata": {
        "id": "fa235b62"
      },
      "outputs": [],
      "source": [
        "cars = \"ImagesToTest/ImagesToTrain/Cars/*\"\n",
        "planes = \"ImagesToTest/ImagesToTrain/Planes/*\"\n"
      ]
    },
    {
      "cell_type": "code",
      "execution_count": null,
      "id": "7f5d600f",
      "metadata": {
        "id": "7f5d600f"
      },
      "outputs": [],
      "source": [
        "x_train = list()\n",
        "for i in glob.glob(cars):\n",
        "    input_img = image.load_img(i, target_size=(224,224))\n",
        "    input_img = np.array(input_img)\n",
        "    x_train.append(input_img)\n",
        "\n",
        "for i in glob.glob(planes):\n",
        "    input_img = image.load_img(i, target_size=(224,224))\n",
        "    input_img = np.array(input_img)\n",
        "    x_train.append(input_img)"
      ]
    },
    {
      "cell_type": "code",
      "execution_count": null,
      "id": "9e0d4226",
      "metadata": {
        "id": "9e0d4226"
      },
      "outputs": [],
      "source": [
        "y_train = [0]*50 + [1]*50"
      ]
    },
    {
      "cell_type": "code",
      "execution_count": null,
      "id": "3698a107",
      "metadata": {
        "id": "3698a107"
      },
      "outputs": [],
      "source": [
        "x_train = np.array(x_train)\n",
        "y_train = np.array(y_train)"
      ]
    },
    {
      "cell_type": "code",
      "execution_count": null,
      "id": "8159be03",
      "metadata": {
        "id": "8159be03",
        "outputId": "bee14971-547d-45e1-a92e-f08054fc5dbe"
      },
      "outputs": [
        {
          "data": {
            "text/plain": [
              "(100, 224, 224, 3)"
            ]
          },
          "execution_count": 155,
          "metadata": {},
          "output_type": "execute_result"
        }
      ],
      "source": [
        "x_train.shape"
      ]
    },
    {
      "cell_type": "code",
      "execution_count": null,
      "id": "caefa995",
      "metadata": {
        "scrolled": true,
        "id": "caefa995",
        "outputId": "4f6b5cef-280c-40fc-cb71-40eed8eaf2e3"
      },
      "outputs": [
        {
          "data": {
            "text/plain": [
              "(100,)"
            ]
          },
          "execution_count": 145,
          "metadata": {},
          "output_type": "execute_result"
        }
      ],
      "source": [
        "y_train.shape"
      ]
    },
    {
      "cell_type": "code",
      "execution_count": null,
      "id": "14d8cc85",
      "metadata": {
        "id": "14d8cc85"
      },
      "outputs": [],
      "source": [
        "x_train = preprocess_input(x_train)"
      ]
    },
    {
      "cell_type": "code",
      "execution_count": null,
      "id": "18a8ae2d",
      "metadata": {
        "id": "18a8ae2d",
        "outputId": "4ad88c2b-ee3f-4aa2-ea20-911be9809ad3"
      },
      "outputs": [
        {
          "name": "stdout",
          "output_type": "stream",
          "text": [
            "Epoch 1/20\n",
            "3/3 [==============================] - 9s 3s/step - loss: 0.5202 - accuracy: 0.7000 - val_loss: 0.4738 - val_accuracy: 0.6667\n",
            "Epoch 2/20\n",
            "3/3 [==============================] - 9s 3s/step - loss: 0.0469 - accuracy: 1.0000 - val_loss: 0.2648 - val_accuracy: 0.8667\n",
            "Epoch 3/20\n",
            "3/3 [==============================] - 10s 3s/step - loss: 0.0106 - accuracy: 1.0000 - val_loss: 0.1737 - val_accuracy: 0.9000\n",
            "Epoch 4/20\n",
            "3/3 [==============================] - 9s 3s/step - loss: 0.0037 - accuracy: 1.0000 - val_loss: 0.1322 - val_accuracy: 0.9333\n",
            "Epoch 5/20\n",
            "3/3 [==============================] - 9s 3s/step - loss: 0.0016 - accuracy: 1.0000 - val_loss: 0.1088 - val_accuracy: 0.9667\n",
            "Epoch 6/20\n",
            "3/3 [==============================] - 9s 3s/step - loss: 9.4575e-04 - accuracy: 1.0000 - val_loss: 0.0938 - val_accuracy: 0.9667\n",
            "Epoch 7/20\n",
            "3/3 [==============================] - 9s 3s/step - loss: 5.6457e-04 - accuracy: 1.0000 - val_loss: 0.0840 - val_accuracy: 0.9667\n",
            "Epoch 8/20\n",
            "3/3 [==============================] - 9s 3s/step - loss: 4.1276e-04 - accuracy: 1.0000 - val_loss: 0.0773 - val_accuracy: 0.9667\n",
            "Epoch 9/20\n",
            "3/3 [==============================] - 9s 3s/step - loss: 3.2041e-04 - accuracy: 1.0000 - val_loss: 0.0723 - val_accuracy: 0.9667\n",
            "Epoch 10/20\n",
            "3/3 [==============================] - 9s 3s/step - loss: 2.5766e-04 - accuracy: 1.0000 - val_loss: 0.0688 - val_accuracy: 0.9667\n",
            "Epoch 11/20\n",
            "3/3 [==============================] - 9s 3s/step - loss: 2.2547e-04 - accuracy: 1.0000 - val_loss: 0.0660 - val_accuracy: 0.9667\n",
            "Epoch 12/20\n",
            "3/3 [==============================] - 9s 3s/step - loss: 2.0100e-04 - accuracy: 1.0000 - val_loss: 0.0639 - val_accuracy: 0.9667\n",
            "Epoch 13/20\n",
            "3/3 [==============================] - 9s 3s/step - loss: 1.8490e-04 - accuracy: 1.0000 - val_loss: 0.0623 - val_accuracy: 0.9667\n",
            "Epoch 14/20\n",
            "3/3 [==============================] - 9s 3s/step - loss: 1.7011e-04 - accuracy: 1.0000 - val_loss: 0.0611 - val_accuracy: 0.9667\n",
            "Epoch 15/20\n",
            "3/3 [==============================] - 9s 3s/step - loss: 1.6089e-04 - accuracy: 1.0000 - val_loss: 0.0602 - val_accuracy: 0.9667\n",
            "Epoch 16/20\n",
            "3/3 [==============================] - 9s 3s/step - loss: 1.5217e-04 - accuracy: 1.0000 - val_loss: 0.0595 - val_accuracy: 0.9667\n",
            "Epoch 17/20\n",
            "3/3 [==============================] - 9s 3s/step - loss: 1.4692e-04 - accuracy: 1.0000 - val_loss: 0.0589 - val_accuracy: 0.9667\n",
            "Epoch 18/20\n",
            "3/3 [==============================] - 10s 3s/step - loss: 1.4123e-04 - accuracy: 1.0000 - val_loss: 0.0584 - val_accuracy: 0.9667\n",
            "Epoch 19/20\n",
            "3/3 [==============================] - 10s 3s/step - loss: 1.3705e-04 - accuracy: 1.0000 - val_loss: 0.0580 - val_accuracy: 0.9667\n",
            "Epoch 20/20\n",
            "3/3 [==============================] - 9s 3s/step - loss: 1.3377e-04 - accuracy: 1.0000 - val_loss: 0.0577 - val_accuracy: 0.9667\n"
          ]
        },
        {
          "data": {
            "text/plain": [
              "<tensorflow.python.keras.callbacks.History at 0x1c3479cc100>"
            ]
          },
          "execution_count": 157,
          "metadata": {},
          "output_type": "execute_result"
        }
      ],
      "source": [
        "newModel.fit(x=x_train, y=y_train,epochs=20,batch_size=30, validation_split=0.3,shuffle=True)"
      ]
    }
  ],
  "metadata": {
    "kernelspec": {
      "display_name": "tf",
      "language": "python",
      "name": "tf"
    },
    "language_info": {
      "codemirror_mode": {
        "name": "ipython",
        "version": 3
      },
      "file_extension": ".py",
      "mimetype": "text/x-python",
      "name": "python",
      "nbconvert_exporter": "python",
      "pygments_lexer": "ipython3",
      "version": "3.8.8"
    },
    "colab": {
      "provenance": []
    }
  },
  "nbformat": 4,
  "nbformat_minor": 5
}